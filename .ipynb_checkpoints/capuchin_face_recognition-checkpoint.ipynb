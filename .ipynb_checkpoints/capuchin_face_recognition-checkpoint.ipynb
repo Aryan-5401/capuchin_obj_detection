{
 "cells": [
  {
   "cell_type": "code",
   "execution_count": null,
   "metadata": {
    "_cell_guid": "b1076dfc-b9ad-4769-8c92-a6c4dae69d19",
    "_uuid": "8f2839f25d086af736a60e9eeb907d3b93b6e0e5"
   },
   "outputs": [],
   "source": [
    "import os\n",
    "import matplotlib\n",
    "import matplotlib.pyplot as plt\n",
    "%matplotlib inline\n"
   ]
  },
  {
   "cell_type": "code",
   "execution_count": null,
   "metadata": {
    "_uuid": "28c6f5de9784419d6ccec6d8c7a015f90dc5d3ab"
   },
   "outputs": [],
   "source": [
    "import tensorflow as tf\n",
    "tf.__version__\n"
   ]
  },
  {
   "cell_type": "code",
   "execution_count": null,
   "metadata": {
    "_uuid": "895946bb4188b4819a1ae4c39b3cf9e11f67ea56"
   },
   "outputs": [],
   "source": [
    "%cd /kaggle/working/ \n",
    "\n",
    "!git clone --quiet https://github.com/tensorflow/models.git > models.txt\n",
    "\n",
    "!apt-get install -qq protobuf-compiler > proto.txt \n",
    "\n",
    "!pip install -q pycocotools > pycoco.txt\n",
    "# creating py files from protos\n",
    "%cd /kaggle/working/models/research\n",
    "!protoc object_detection/protos/*.proto --python_out=.\n",
    "# setting path, if not set, python can not use object detection library (from models)\n",
    "import os\n",
    "# if prints OK, then installation and environment are set up correctly \n",
    "!python object_detection/builders/model_builder_test.py"
   ]
  },
  {
   "cell_type": "code",
   "execution_count": null,
   "metadata": {
    "_uuid": "ef2b834e3d27bc9b903e1e30861fb91ed5da7d1f"
   },
   "outputs": [],
   "source": [
    "import re\n",
    "pipeline_fname=\"/working/nssd_mobilenet_v2_coco.config\"\n",
    "fine_tune_checkpoint=\"/input/my-training/model.ckpt\"\n",
    "train_record_fname=\"/input/face-recognition-part-1/train.tfrecord\"\n",
    "test_record_fname=\"/input/face-recognition-part-1/test.tfrecord\"\n",
    "label_map_pbtxt_fname=\"/input/face-recognition-part-1/object_label.pbtxt\"\n",
    "batch_size=64\n",
    "num_steps=20000 # more steps of training gives higher accuracy\n",
    "num_classes=62 # specify classes\n",
    "num_examples=5000 # generate examples by augmenting existing images in tfrecords\n",
    "\n",
    "with open(pipeline_fname) as f:\n",
    "    s = f.read()\n",
    "with open(pipeline_fname, 'w') as f:\n",
    "    \n",
    "    # fine_tune_checkpoint\n",
    "    s = re.sub('fine_tune_checkpoint: \".*?\"',\n",
    "               'fine_tune_checkpoint: \"{}\"'.format(fine_tune_checkpoint), s)\n",
    "    \n",
    "    # tfrecord files both train and test.\n",
    "    s = re.sub(\n",
    "        '(input_path: \".*?)(train.record)(.*?\")', 'input_path: \"{}\"'.format(train_record_fname), s)\n",
    "    s = re.sub(\n",
    "        '(input_path: \".*?)(test.record)(.*?\")', 'input_path: \"{}\"'.format(test_record_fname), s)\n",
    "    # label_map_path\n",
    "    s = re.sub(\n",
    "        'label_map_path: \".*?\"', 'label_map_path: \"{}\"'.format(label_map_pbtxt_fname), s)\n",
    "    # Set training batch_size.\n",
    "    s = re.sub('batch_size: [0-9]+',\n",
    "               'batch_size: {}'.format(batch_size), s)\n",
    "    # Set training steps, num_steps\n",
    "    s = re.sub('num_steps: [0-9]+',\n",
    "               'num_steps: {}'.format(num_steps), s)\n",
    "    s = re.sub('num_examples: [0-9]+',\n",
    "               'num_examples: {}'.format(num_examples), s) \n",
    "    # Set number of classes num_classes.\n",
    "    s = re.sub('num_classes: [0-9]+',\n",
    "               'num_classes: {}'.format(num_classes), s)\n",
    "    f.write(s)"
   ]
  },
  {
   "cell_type": "code",
   "execution_count": null,
   "metadata": {
    "_uuid": "db464a7bb78ddb15fcf944c650a0b7692f1cf906"
   },
   "outputs": [],
   "source": [
    "# folder for saving trained model\n",
    "os.mkdir('/working/training')"
   ]
  },
  {
   "cell_type": "code",
   "execution_count": null,
   "metadata": {
    "_uuid": "e3dead998128381aa0567bba88c9661314e66fa7"
   },
   "outputs": [],
   "source": [
    "#!ls /kaggle/working/\n",
    "train='/working/training/'"
   ]
  },
  {
   "cell_type": "code",
   "execution_count": null,
   "metadata": {
    "_uuid": "f462e3ed1dbcb712a5430c14d76f2c0e1d5d06db"
   },
   "outputs": [],
   "source": [
    "# this is for further training from my last checkpoint\n",
    "!cp /kaggle/input/float-trained16k/* /kaggle/working/training/\n",
    "#opening checkpoint text file to edit the last step:\n",
    "ch=open('/working/training/checkpoint','w')\n",
    "ch.write('model_checkpoint_path: \"model.ckpt-16000\"\\nall_model_checkpoint_paths: \"model.ckpt-16000\"')\n",
    "ch.close() # without checkpoint step, training does not continue"
   ]
  },
  {
   "cell_type": "code",
   "execution_count": null,
   "metadata": {
    "_uuid": "c920d676e7dde43600fb0e3d8babdfee603ff829"
   },
   "outputs": [],
   "source": [
    "#training starts by running model_main.py and passing the paths\n",
    "!python /kaggle/working/models/research/object_detection/model_main.py \\\n",
    "    --pipeline_config_path={pipeline_fname} \\\n",
    "    --model_dir=/kaggle/working/training/ \\\n",
    "    --alsologtostderr > /kaggle/working/train.txt\n",
    "print(\"Finished training\")"
   ]
  },
  {
   "cell_type": "code",
   "execution_count": null,
   "metadata": {
    "_uuid": "47bd9e813d21a0224a63ab36962ce9e80edf1623"
   },
   "outputs": [],
   "source": [
    "!ls /kaggle/working/training\n",
    "#!cat {pipeline_fname}"
   ]
  },
  {
   "cell_type": "code",
   "execution_count": null,
   "metadata": {
    "_uuid": "65f57b35bd584b04245f352bb8d5c0cf8dc4bc23"
   },
   "outputs": [],
   "source": [
    "!cp {pipeline_fname} /kaggle/working/training/\n",
    "conf_path='/working/training/nssd_mobilenet_v2_coco.config'"
   ]
  },
  {
   "cell_type": "code",
   "execution_count": null,
   "metadata": {
    "_uuid": "07c8d4ece5af6c0021e0eefe4b3aa4af4d0b501d"
   },
   "outputs": [],
   "source": [
    "#save frozen graph of the model for inference later (for notebook usage only, not for tflite converting)\n",
    "import re\n",
    "import numpy as np\n",
    "\n",
    "output_directory = '/working/trained_model'\n",
    "\n",
    "lst = os.listdir(train)\n",
    "lst = [l for l in lst if 'model.ckpt-' in l and '.meta' in l]\n",
    "steps=np.array([int(re.findall('\\d+', l)[0]) for l in lst])\n",
    "last_model = lst[steps.argmax()].replace('.meta', '')\n",
    "last_model_path = os.path.join(train, last_model)\n",
    "\n",
    "print(last_model_path)\n",
    "!python /kaggle/working/models/research/object_detection/export_inference_graph.py \\\n",
    "    --input_type=image_tensor \\\n",
    "    --pipeline_config_path={pipeline_fname} \\\n",
    "    --output_directory={output_directory} \\\n",
    "    --trained_checkpoint_prefix={last_model_path} \\\n",
    "    > /kaggle/working/graph.txt\n",
    "print('Finished exporting')"
   ]
  },
  {
   "cell_type": "code",
   "execution_count": null,
   "metadata": {
    "_uuid": "27a8a8987b969e6466bc46fdfe1023c50036bd0e"
   },
   "outputs": [],
   "source": [
    "!ls /kaggle/working/trained_model/"
   ]
  },
  {
   "cell_type": "code",
   "execution_count": null,
   "metadata": {
    "_uuid": "b82f65bb4c5fb63e84ac4cb9feac2de849ca4034"
   },
   "outputs": [],
   "source": [
    "os.mkdir('/working/freezetflite')\n",
    "outd='/working/freezetflite'"
   ]
  },
  {
   "cell_type": "code",
   "execution_count": null,
   "metadata": {
    "_uuid": "7a8b93f6ef2bbdec85a0a0ad9b43a99a7cbd3dff"
   },
   "outputs": [],
   "source": [
    "# freezing graph for tensorflow lite for android use\n",
    "!python /kaggle/working/models/research/object_detection/export_tflite_ssd_graph.py \\\n",
    "--pipeline_config_path={conf_path} \\\n",
    "--trained_checkpoint_prefix={last_model_path} \\\n",
    "--output_directory={outd} \\\n",
    "--add_postprocessing_op=true"
   ]
  },
  {
   "cell_type": "code",
   "execution_count": null,
   "metadata": {
    "_uuid": "8fd6eab33dcea663cb10bd562c3216c72b8064f4"
   },
   "outputs": [],
   "source": [
    "# converting frozen graph to obtain tflite, used on Android later\n",
    "!tflite_convert  --graph_def_file=/kaggle/working/freezetflite/tflite_graph.pb \\\n",
    "--output_file=/kaggle/working/freezetflite/62faces_float.tflite \\\n",
    "--input_arrays=normalized_input_image_tensor \\\n",
    "--output_arrays='TFLite_Detection_PostProcess','TFLite_Detection_PostProcess:1','TFLite_Detection_PostProcess:2','TFLite_Detection_PostProcess:3' \\\n",
    "--input_shape=1,300,300,3 \\\n",
    "--allow_custom_ops "
   ]
  },
  {
   "cell_type": "code",
   "execution_count": null,
   "metadata": {
    "_uuid": "21013c41d905ed8b28c5ad77ab24c001fe6c3da5"
   },
   "outputs": [],
   "source": [
    "# modified from https://www.dlology.com/blog/how-to-train-an-object-detection-model-easy-for-free/\n",
    "%cd /kaggle/working/models/research/object_detection\n",
    "import warnings\n",
    "warnings.filterwarnings('ignore')\n",
    "\n",
    "PATH_TO_CKPT='/working/trained_model/frozen_inference_graph.pb'\n",
    "PATH_TO_LABELS = label_map_pbtxt_fname\n",
    "PATH_DIR ='/input/faces-data/'\n",
    "TEST_IMAGE_PATHS =[os.path.join(PATH_DIR+i) for i in os.listdir(PATH_DIR)]\n",
    "\n",
    "#import matplotlib; matplotlib.use('Agg')\n",
    "import numpy as np\n",
    "import os\n",
    "import six.moves.urllib as urllib\n",
    "import sys\n",
    "import tarfile\n",
    "import tensorflow as tf\n",
    "import zipfile\n",
    "\n",
    "from collections import defaultdict\n",
    "from io import StringIO\n",
    "#from matplotlib import pyplot as plt\n",
    "\n",
    "from PIL import Image\n",
    "\n",
    "# This is needed since the notebook is stored in the object_detection folder.\n",
    "sys.path.append(\"..\")\n",
    "from object_detection.utils import ops as utils_ops\n",
    "\n",
    "\n",
    "# This is needed to display the images.\n",
    "#%matplotlib inline\n",
    "\n",
    "\n",
    "from object_detection.utils import label_map_util\n",
    "\n",
    "from object_detection.utils import visualization_utils as vis_util\n",
    "\n",
    "\n",
    "detection_graph = tf.Graph()\n",
    "with detection_graph.as_default():\n",
    "    od_graph_def = tf.GraphDef()\n",
    "    with tf.gfile.GFile(PATH_TO_CKPT, 'rb') as fid:\n",
    "        serialized_graph = fid.read()\n",
    "        od_graph_def.ParseFromString(serialized_graph)\n",
    "        tf.import_graph_def(od_graph_def, name='')\n",
    "\n",
    "\n",
    "label_map = label_map_util.load_labelmap(PATH_TO_LABELS)\n",
    "categories = label_map_util.convert_label_map_to_categories(\n",
    "    label_map, max_num_classes=num_classes, use_display_name=True)\n",
    "category_index = label_map_util.create_category_index(categories)\n",
    "\n",
    "\n",
    "def load_image_into_numpy_array(image):\n",
    "    (im_width, im_height) = image.size\n",
    "    return np.array(image.getdata()).reshape(\n",
    "        (im_height, im_width, 3)).astype(np.uint8)\n",
    "\n",
    "# Size, in inches, of the output images.\n",
    "IMAGE_SIZE = (12, 8)\n",
    "\n",
    "\n",
    "def run_inference_for_single_image(image, graph):\n",
    "    with graph.as_default():\n",
    "        with tf.Session() as sess:\n",
    "            # Get handles to input and output tensors\n",
    "            ops = tf.get_default_graph().get_operations()\n",
    "            all_tensor_names = {\n",
    "                output.name for op in ops for output in op.outputs}\n",
    "            tensor_dict = {}\n",
    "            for key in [\n",
    "                'num_detections', 'detection_boxes', 'detection_scores',\n",
    "                'detection_classes', 'detection_masks'\n",
    "            ]:\n",
    "                tensor_name = key + ':0'\n",
    "                if tensor_name in all_tensor_names:\n",
    "                    tensor_dict[key] = tf.get_default_graph().get_tensor_by_name(\n",
    "                        tensor_name)\n",
    "            if 'detection_masks' in tensor_dict:\n",
    "                # The following processing is only for single image\n",
    "                detection_boxes = tf.squeeze(\n",
    "                    tensor_dict['detection_boxes'], [0])\n",
    "                detection_masks = tf.squeeze(\n",
    "                    tensor_dict['detection_masks'], [0])\n",
    "                # Reframe is required to translate mask from box coordinates to image coordinates and fit the image size.\n",
    "                real_num_detection = tf.cast(\n",
    "                    tensor_dict['num_detections'][0], tf.int32)\n",
    "                detection_boxes = tf.slice(detection_boxes, [0, 0], [\n",
    "                                           real_num_detection, -1])\n",
    "                detection_masks = tf.slice(detection_masks, [0, 0, 0], [\n",
    "                                           real_num_detection, -1, -1])\n",
    "                detection_masks_reframed = utils_ops.reframe_box_masks_to_image_masks(\n",
    "                    detection_masks, detection_boxes, image.shape[0], image.shape[1])\n",
    "                detection_masks_reframed = tf.cast(\n",
    "                    tf.greater(detection_masks_reframed, 0.5), tf.uint8)\n",
    "                # Follow the convention by adding back the batch dimension\n",
    "                tensor_dict['detection_masks'] = tf.expand_dims(\n",
    "                    detection_masks_reframed, 0)\n",
    "            image_tensor = tf.get_default_graph().get_tensor_by_name('image_tensor:0')\n",
    "\n",
    "            # Run inference\n",
    "            output_dict = sess.run(tensor_dict,\n",
    "                                   feed_dict={image_tensor: np.expand_dims(image, 0)})\n",
    "\n",
    "            # all outputs are float32 numpy arrays, so convert types as appropriate\n",
    "            output_dict['num_detections'] = int(\n",
    "                output_dict['num_detections'][0])\n",
    "            output_dict['detection_classes'] = output_dict[\n",
    "                'detection_classes'][0].astype(np.uint8)\n",
    "            output_dict['detection_boxes'] = output_dict['detection_boxes'][0]\n",
    "            output_dict['detection_scores'] = output_dict['detection_scores'][0]\n",
    "            if 'detection_masks' in output_dict:\n",
    "                output_dict['detection_masks'] = output_dict['detection_masks'][0]\n",
    "    return output_dict\n",
    "\n",
    "\n",
    "for image_path in TEST_IMAGE_PATHS:\n",
    "    image = Image.open(image_path)\n",
    "    # the array based representation of the image will be used later in order to prepare the\n",
    "    # result image with boxes and labels on it.\n",
    "    image_np = load_image_into_numpy_array(image)\n",
    "    # Expand dimensions since the model expects images to have shape: [1, None, None, 3]\n",
    "    image_np_expanded = np.expand_dims(image_np, axis=0)\n",
    "    # Actual detection.\n",
    "    output_dict = run_inference_for_single_image(image_np, detection_graph)\n",
    "    # Visualization of the results of a detection.\n",
    "    vis_util.visualize_boxes_and_labels_on_image_array(\n",
    "        image_np,\n",
    "        output_dict['detection_boxes'],\n",
    "        output_dict['detection_classes'],\n",
    "        output_dict['detection_scores'],\n",
    "        category_index,\n",
    "        instance_masks=output_dict.get('detection_masks'),\n",
    "        use_normalized_coordinates=True,\n",
    "        line_thickness=5)\n",
    "    plt.figure(figsize=IMAGE_SIZE)\n",
    "    plt.imshow(image_np)"
   ]
  },
  {
   "cell_type": "code",
   "execution_count": null,
   "metadata": {
    "_uuid": "00cf0413bc56bd5e1b5d423bfbec19eeaf55913d"
   },
   "outputs": [],
   "source": [
    "import shutil\n",
    "shutil.rmtree('/working/models')"
   ]
  },
  {
   "cell_type": "code",
   "execution_count": null,
   "metadata": {
    "_uuid": "4f15b14f37e35cc3a5bbc4fd602e22d13495e790"
   },
   "outputs": [],
   "source": []
  }
 ],
 "metadata": {
  "kernelspec": {
   "display_name": "Python 3",
   "language": "python",
   "name": "python3"
  },
  "language_info": {
   "codemirror_mode": {
    "name": "ipython",
    "version": 3
   },
   "file_extension": ".py",
   "mimetype": "text/x-python",
   "name": "python",
   "nbconvert_exporter": "python",
   "pygments_lexer": "ipython3",
   "version": "3.7.6"
  }
 },
 "nbformat": 4,
 "nbformat_minor": 1
}
